{
 "cells": [
  {
   "cell_type": "code",
   "execution_count": 26,
   "metadata": {
    "collapsed": false
   },
   "outputs": [],
   "source": [
    "import numpy as np\n",
    "import pandas as pd\n",
    "from sklearn import neighbors\n",
    "from sklearn import manifold"
   ]
  },
  {
   "cell_type": "code",
   "execution_count": 27,
   "metadata": {
    "collapsed": false,
    "scrolled": true
   },
   "outputs": [],
   "source": [
    "df = pd.read_csv('forest_fire_pred.csv')\n",
    "dist = neighbors.DistanceMetric.get_metric('euclidean')\n",
    "df_value = np.array(df.values)\n",
    "df_value = np.delete(df_value, 0, 1)  # remove the indices\n",
    "dist_matrix = dist.pairwise(df_value)\n",
    "dist_df = pd.DataFrame(dist_matrix)"
   ]
  },
  {
   "cell_type": "code",
   "execution_count": 28,
   "metadata": {
    "collapsed": false
   },
   "outputs": [],
   "source": [
    "mds = manifold.MDS(dissimilarity='precomputed')\n",
    "mds_coord = mds.fit_transform(dist_matrix)"
   ]
  },
  {
   "cell_type": "code",
   "execution_count": 29,
   "metadata": {
    "collapsed": false
   },
   "outputs": [
    {
     "name": "stdout",
     "output_type": "stream",
     "text": [
      "1034\n"
     ]
    }
   ],
   "source": [
    "print(mds_coord.size)"
   ]
  },
  {
   "cell_type": "code",
   "execution_count": 30,
   "metadata": {
    "collapsed": false
   },
   "outputs": [
    {
     "name": "stdout",
     "output_type": "stream",
     "text": [
      "[[  4.84229723 -19.62204165]\n",
      " [-14.70561409  -5.30883039]\n",
      " [-13.92681421  -3.90013394]\n",
      " ..., \n",
      " [ 26.45381449  -6.47773199]\n",
      " [ -9.49698166 -13.94494281]\n",
      " [-14.22508364   7.98835466]]\n"
     ]
    }
   ],
   "source": [
    "print(mds_coord)"
   ]
  },
  {
   "cell_type": "code",
   "execution_count": 31,
   "metadata": {
    "collapsed": true
   },
   "outputs": [],
   "source": [
    "mds_df = pd.DataFrame(mds_coord, columns=['x', 'y'])"
   ]
  },
  {
   "cell_type": "code",
   "execution_count": 32,
   "metadata": {
    "collapsed": true
   },
   "outputs": [],
   "source": [
    "mds_df.to_csv('mds.csv')"
   ]
  },
  {
   "cell_type": "code",
   "execution_count": 70,
   "metadata": {
    "collapsed": false
   },
   "outputs": [],
   "source": [
    "df = pd.read_csv('corr_matrix.csv')\n",
    "df_values = [[1 - num for num in row] for row in df.values]\n",
    "df_values = np.array(df.values)\n",
    "df_values = np.delete(df_value, 0, 1)\n",
    "mds_attr = manifold.MDS(dissimilarity='precomputed')\n",
    "mds_coord_attr = mds.fit_transform(dist_matrix)"
   ]
  },
  {
   "cell_type": "code",
   "execution_count": 72,
   "metadata": {
    "collapsed": false
   },
   "outputs": [],
   "source": [
    "mds_df_attr = pd.DataFrame(mds_coord_attr, columns=['x', 'y'])\n",
    "mds_df_attr.to_csv('mds_attr.csv')"
   ]
  },
  {
   "cell_type": "code",
   "execution_count": null,
   "metadata": {
    "collapsed": true
   },
   "outputs": [],
   "source": [
    ""
   ]
  }
 ],
 "metadata": {
  "kernelspec": {
   "display_name": "Python3(tensorflow)",
   "language": "python",
   "name": "python3"
  },
  "language_info": {
   "codemirror_mode": {
    "name": "ipython",
    "version": 3.0
   },
   "file_extension": ".py",
   "mimetype": "text/x-python",
   "name": "python",
   "nbconvert_exporter": "python",
   "pygments_lexer": "ipython3",
   "version": "3.5.1"
  }
 },
 "nbformat": 4,
 "nbformat_minor": 0
}