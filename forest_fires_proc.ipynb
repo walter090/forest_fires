{
 "cells": [
  {
   "cell_type": "code",
   "execution_count": 75,
   "metadata": {
    "collapsed": true
   },
   "outputs": [],
   "source": [
    "%matplotlib inline\n",
    "\n",
    "import matplotlib\n",
    "import numpy as np\n",
    "import pandas as pd\n",
    "import calendar as cal\n",
    "import matplotlib.pyplot as plt\n",
    "import altair as alt\n",
    "\n",
    "from sklearn import svm\n",
    "from sklearn.decomposition import PCA\n",
    "from sklearn.feature_selection import RFE\n",
    "\n",
    "from matplotlib import style\n",
    "style.use('ggplot')"
   ]
  },
  {
   "cell_type": "code",
   "execution_count": 90,
   "metadata": {
    "collapsed": false,
    "scrolled": false
   },
   "outputs": [
    {
     "name": "stdout",
     "output_type": "stream",
     "text": [
      "[ 9  4  3  6  2 11 12  8  5 10  7 13  1]\n"
     ]
    },
    {
     "data": {
      "image/png": "[encoded data removed]",
      "text/plain": [
       "<matplotlib.figure.Figure at 0x7efd6935af28>"
      ]
     },
     "metadata": {},
     "output_type": "display_data"
    },
    {
     "name": "stdout",
     "output_type": "stream",
     "text": [
      "   X  Y  month  day  FFMC  ISI  temp  RH  wind  area\n0  7  5      3    4  86.2  5.1   8.2  51   6.7   0.0\n1  7  4     10    1  90.6  6.7  18.0  33   0.9   0.0\n2  7  4     10    5  90.6  6.7  14.6  33   1.3   0.0\n3  8  6      3    4  91.7  9.0   8.3  97   4.0   0.0\n4  8  6      3    6  89.3  9.6  11.4  99   1.8   0.0\n         P1        P2        P3  sum_of_sl\n0 -0.002287  0.012841  0.003340   0.000181\n1 -0.000860  0.005018 -0.003038   0.000035\n2 -0.002054 -0.017481  0.130641   0.017377\n3 -0.000741  0.010952  0.019812   0.000513\n4 -0.003679 -0.118951  0.654716   0.442816\n5 -0.000682 -0.051318  0.529173   0.282658\n6 -0.009269 -0.203633  0.478679   0.270686\n7  0.020852  0.969817  0.211096   0.985541\n8 -0.000331  0.008986 -0.011791   0.000220\n9 -0.999727  0.022580 -0.003090   0.999974\n"
     ]
    }
   ],
   "source": [
    "df = pd.read_csv('forest_fires.csv')\n",
    "# dictionary used to translate month names to integer, 1 for january\n",
    "month_to_num_dict = {key.lower(): value for value, key in enumerate(cal.month_abbr)}\n",
    "# dictionary used to translate day names to integer, 0 for monday\n",
    "day_to_num_dict = {key.lower(): value for value, key in enumerate(cal.day_abbr)}\n",
    "\n",
    "grouped = df.groupby('month')\n",
    "for group in grouped:\n",
    "    df.replace(group[0], month_to_num_dict[group[0]], inplace=True)\n",
    "    \n",
    "grouped = df.groupby('day')\n",
    "for group in grouped:\n",
    "    df.replace(group[0], day_to_num_dict[group[0]], inplace=True)\n",
    "\n",
    "clf = svm.SVR(kernel='linear')\n",
    "# recursive feature elimination\n",
    "sel = RFE(clf, n_features_to_select=1)\n",
    "sel.fit(df, df['area'])\n",
    "# display the feature ranking and selected features\n",
    "print(sel.ranking_)\n",
    "\n",
    "df.drop(['DMC', 'DC', 'rain'], 1, inplace=True)\n",
    "\n",
    "pca = PCA()\n",
    "pca.fit(df)\n",
    "ei = pca.explained_variance_ratio_ # normalized eigen values\n",
    "ei_vectors = pca.components_       # eigen vectors\n",
    "\n",
    "ei_df = pd.DataFrame(ei, columns=['value'])\n",
    "# ei_df['index'] = Series()\n",
    "ei_df.to_csv('ei.csv')\n",
    "\n",
    "fig = plt.figure(figsize=(10, 8))\n",
    "pc = np.arange(len(ei)) + 1\n",
    "\n",
    "plt.plot(pc, ei, 'ro-', linewidth=2)\n",
    "plt.title('Scree Plot')\n",
    "plt.xlabel('Principal Component')\n",
    "plt.ylabel('Eigenvalue')\n",
    "\n",
    "graph = plt.legend(['Eigenvalues (normalized)'],\n",
    "                   loc='best',\n",
    "                   borderpad=0.3, \n",
    "                   shadow=False,\n",
    "                   markerscale=0.4)\n",
    "\n",
    "graph.get_frame().set_alpha(0.4)\n",
    "graph.draggable(state=True)\n",
    "plt.show()\n",
    "pca = PCA(n_components=3)\n",
    "pca.fit(df)\n",
    "components = pd.DataFrame(pca.components_)\n",
    "components = components.T.rename(columns={0: 'P1', 1: 'P2', 2: 'P3'})\n",
    "print(df.head())\n",
    "components = components.assign(sum_of_sl=\n",
    "                               [sum([row[0] ** 2, row[1] ** 2, row[2] **2]) \n",
    "                                for row in components.values])\n",
    "print(components)"
   ]
  },
  {
   "cell_type": "code",
   "execution_count": 91,
   "metadata": {
    "collapsed": true
   },
   "outputs": [
    {
     "name": "stdout",
     "output_type": "stream",
     "text": [
      "   X  Y  month  day  FFMC  ISI  temp  RH  wind  area\n0  7  5      3    4  86.2  5.1   8.2  51   6.7   0.0\n1  7  4     10    1  90.6  6.7  18.0  33   0.9   0.0\n2  7  4     10    5  90.6  6.7  14.6  33   1.3   0.0\n3  8  6      3    4  91.7  9.0   8.3  97   4.0   0.0\n4  8  6      3    6  89.3  9.6  11.4  99   1.8   0.0\n"
     ]
    }
   ],
   "source": [
    "print(df.head())"
   ]
  },
  {
   "cell_type": "code",
   "execution_count": 105,
   "metadata": {
    "collapsed": true
   },
   "outputs": [
    {
     "name": "stdout",
     "output_type": "stream",
     "text": [
      "{1: -7.16, 2: -7.08, 3: -7.0, 4: -6.92, 5: -6.84, 6: -6.76, 7: -6.68, 8: -6.6, 9: -6.52}\n"
     ]
    }
   ],
   "source": [
    "lgt_range = {'a': -7.20, 'b': -6.52}\n",
    "lat_range = {'a': 41.74, 'b': 41.99}\n",
    "\n",
    "lgt_interval = round((lgt_range['b'] - lgt_range['a']) / 9, 2)\n",
    "lat_interval = round((lat_range['b'] - lat_range['a']) / 8, 2)\n",
    "lgt_offset = round(lgt_interval / 2, 2)\n",
    "lat_offset = round(lat_interval / 2, 2)\n",
    "\n",
    "lat = {}\n",
    "lgt = {}\n",
    "for i in range(1, 10):\n",
    "    lgt[i] = round((i - 1) * lgt_interval + lgt_range['a'] + lgt_offset, 2)\n",
    "    lat[i] = round((i - 1) * lat_interval + lat_range['a'] + lat_offset, 2)\n",
    "print(lgt)"
   ]
  },
  {
   "cell_type": "code",
   "execution_count": 106,
   "metadata": {},
   "outputs": [
    {
     "name": "stdout",
     "output_type": "stream",
     "text": [
      "<class 'pandas.core.frame.DataFrame'>\n<class 'pandas.core.frame.DataFrame'>\n   longitude  latitude  month  day  FFMC  ISI  temp  RH  wind  area\n0      -6.68     41.87      3    4  86.2  5.1   8.2  51   6.7   0.0\n1      -6.68     41.84     10    1  90.6  6.7  18.0  33   0.9   0.0\n2      -6.68     41.84     10    5  90.6  6.7  14.6  33   1.3   0.0\n3      -6.60     41.90      3    4  91.7  9.0   8.3  97   4.0   0.0\n4      -6.60     41.90      3    6  89.3  9.6  11.4  99   1.8   0.0\n"
     ]
    }
   ],
   "source": [
    "# function to replace values in a certain column\n",
    "def group_and_replace(grouped_by, replacement, data, col=None):\n",
    "    data[grouped_by] = [replacement[value] for value in data[grouped_by]]\n",
    "    print(data.__class__)\n",
    "    if col:\n",
    "        data.columns = [col if name == grouped_by else name for name in data.columns.values]\n",
    "\n",
    "# translate the x and y to longitude and latitude\n",
    "# so that the csv can be converted into geojson\n",
    "geo_df = df.copy()\n",
    "group_and_replace('X', lgt, geo_df, 'longitude')\n",
    "group_and_replace('Y', lat, geo_df, 'latitude')\n",
    "print(geo_df.head())"
   ]
  },
  {
   "cell_type": "code",
   "execution_count": 107,
   "metadata": {},
   "outputs": [],
   "source": [
    "# try:\n",
    "#     geo_df.to_csv('geo_fires.csv')\n",
    "# except Exception as e:\n",
    "#     print(e)"
   ]
  },
  {
   "cell_type": "code",
   "execution_count": null,
   "metadata": {},
   "outputs": [],
   "source": [
    ""
   ]
  }
 ],
 "metadata": {
  "kernelspec": {
   "display_name": "Python3(tensorflow)",
   "language": "python",
   "name": "python3"
  },
  "language_info": {
   "codemirror_mode": {
    "name": "ipython",
    "version": 3.0
   },
   "file_extension": ".py",
   "mimetype": "text/x-python",
   "name": "python",
   "nbconvert_exporter": "python",
   "pygments_lexer": "ipython3",
   "version": "3.5.1"
  }
 },
 "nbformat": 4,
 "nbformat_minor": 0
}