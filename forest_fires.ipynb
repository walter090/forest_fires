{
 "cells": [
  {
   "cell_type": "code",
   "execution_count": 1,
   "metadata": {
    "collapsed": false
   },
   "outputs": [],
   "source": [
    "import numpy as np\n",
    "import pandas as pd\n",
    "import calendar as cal\n",
    "import tensorflow as tf\n",
    "import matplotlib.pyplot as plt\n",
    "from sklearn import neighbors, covariance\n",
    "\n",
    "from matplotlib import style\n",
    "from collections import OrderedDict\n",
    "from sklearn import svm\n",
    "\n",
    "style.use('ggplot')"
   ]
  },
  {
   "cell_type": "code",
   "execution_count": 2,
   "metadata": {
    "collapsed": false
   },
   "outputs": [],
   "source": [
    "df = pd.read_csv('forest_fires.csv')"
   ]
  },
  {
   "cell_type": "code",
   "execution_count": 3,
   "metadata": {
    "collapsed": true
   },
   "outputs": [],
   "source": [
    "month_area_dict = {}\n",
    "\n",
    "month_to_number = {key.lower(): value for value, key in enumerate(cal.month_abbr)}"
   ]
  },
  {
   "cell_type": "code",
   "execution_count": 4,
   "metadata": {
    "collapsed": true
   },
   "outputs": [],
   "source": [
    "# for row in df.itertuples():\n",
    "#     index = month_to_number[row[3]]\n",
    "#     month_area_dict[index] = np.append(month_area_dict[index], row[-1])\n",
    "# for month in month_area_dict:\n",
    "#     month_area_dict[month] = np.mean(month_area_dict[month])"
   ]
  },
  {
   "cell_type": "code",
   "execution_count": 5,
   "metadata": {
    "collapsed": true
   },
   "outputs": [],
   "source": [
    "# x = list(month_area_dict.keys())\n",
    "# y = list(month_area_dict.values())\n",
    "# plt.xticks(x, [cal.month_abbr[i] for i in range(1, 13)])\n",
    "# plt.bar(x, y)\n",
    "# plt.show()"
   ]
  },
  {
   "cell_type": "code",
   "execution_count": 10,
   "metadata": {
    "collapsed": false
   },
   "outputs": [
    {
     "name": "stdout",
     "output_type": "stream",
     "text": [
      "<pandas.core.groupby.DataFrameGroupBy object at 0x7f08b98181d0>\n<pandas.core.groupby.DataFrameGroupBy object at 0x7f08b98181d0>\n<pandas.core.groupby.DataFrameGroupBy object at 0x7f08b98181d0>\n<pandas.core.groupby.DataFrameGroupBy object at 0x7f08b98181d0>\n<pandas.core.groupby.DataFrameGroupBy object at 0x7f08b98181d0>\n<pandas.core.groupby.DataFrameGroupBy object at 0x7f08b98181d0>\n<pandas.core.groupby.DataFrameGroupBy object at 0x7f08b98181d0>\n<pandas.core.groupby.DataFrameGroupBy object at 0x7f08b98181d0>\n<pandas.core.groupby.DataFrameGroupBy object at 0x7f08b98181d0>\n<pandas.core.groupby.DataFrameGroupBy object at 0x7f08b98181d0>\n<pandas.core.groupby.DataFrameGroupBy object at 0x7f08b98181d0>\n<pandas.core.groupby.DataFrameGroupBy object at 0x7f08b98181d0>\n"
     ]
    }
   ],
   "source": [
    "grouped = df.groupby('month')\n",
    "\n",
    "for group in grouped:\n",
    "    \n",
    "    month_area_dict[month_to_number[group[0]]] =\\\n",
    "        grouped.get_group(group[0]).mean(axis=0)['area']"
   ]
  },
  {
   "cell_type": "code",
   "execution_count": 7,
   "metadata": {
    "collapsed": true
   },
   "outputs": [],
   "source": [
    "x = list(month_area_dict.keys())\n",
    "y = list(month_area_dict.values())\n",
    "plt.xticks(x, [cal.month_abbr[i] for i in range(1, 13)])\n",
    "plt.bar(x, y)\n",
    "plt.show()"
   ]
  },
  {
   "cell_type": "code",
   "execution_count": 11,
   "metadata": {},
   "outputs": [],
   "source": [
    ""
   ]
  },
  {
   "cell_type": "code",
   "execution_count": null,
   "metadata": {},
   "outputs": [],
   "source": [
    ""
   ]
  }
 ],
 "metadata": {
  "kernelspec": {
   "display_name": "Python3(tensorflow)",
   "language": "python",
   "name": "python3"
  },
  "language_info": {
   "codemirror_mode": {
    "name": "ipython",
    "version": 3.0
   },
   "file_extension": ".py",
   "mimetype": "text/x-python",
   "name": "python",
   "nbconvert_exporter": "python",
   "pygments_lexer": "ipython3",
   "version": "3.5.1"
  }
 },
 "nbformat": 4,
 "nbformat_minor": 0
}