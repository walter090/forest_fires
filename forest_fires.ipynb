{
 "cells": [
  {
   "cell_type": "code",
   "execution_count": 154,
   "metadata": {
    "collapsed": false
   },
   "outputs": [],
   "source": [
    "import numpy as np\n",
    "import pandas as pd\n",
    "import calendar as cal\n",
    "import tensorflow as tf\n",
    "import matplotlib.pyplot as plt\n",
    "\n",
    "from matplotlib import style\n",
    "from collections import OrderedDict\n",
    "\n",
    "style.use('ggplot')"
   ]
  },
  {
   "cell_type": "code",
   "execution_count": 155,
   "metadata": {
    "collapsed": false
   },
   "outputs": [],
   "source": [
    "df = pd.read_csv('forest_fires.csv')"
   ]
  },
  {
   "cell_type": "code",
   "execution_count": 161,
   "metadata": {
    "collapsed": true
   },
   "outputs": [],
   "source": [
    "month_area_dict = {1:np.array([]),2:np.array([]),3:np.array([]),4:np.array([]),\n",
    "                   5:np.array([]),6:np.array([]),7:np.array([]),8:np.array([]),\n",
    "                   9:np.array([]),10:np.array([]),11:np.array([]),12:np.array([])}\n",
    "\n",
    "month_to_number = {key.lower(): value for value, key in enumerate(cal.month_abbr)}"
   ]
  },
  {
   "cell_type": "code",
   "execution_count": 163,
   "metadata": {},
   "outputs": [
    {
     "name": "stdout",
     "output_type": "stream",
     "text": [
      "{1: 0.0, 2: 6.2750000000000004, 3: 4.3566666666666682, 4: 8.8911111111111119, 5: 19.239999999999998, 6: 5.8411764705882341, 7: 14.369687499999998, 8: 12.489076086956521, 9: 17.942616279069767, 10: 6.6379999999999999, 11: 0.0, 12: 13.330000000000002}\n"
     ]
    }
   ],
   "source": [
    "for row in df.itertuples():\n",
    "    index = month_to_number[row[3]]\n",
    "    month_area_dict[index] = np.append(month_area_dict[index], row[-1])\n",
    "for month in month_area_dict:\n",
    "    month_area_dict[month] = np.mean(month_area_dict[month])"
   ]
  },
  {
   "cell_type": "code",
   "execution_count": 170,
   "metadata": {},
   "outputs": [],
   "source": [
    "x = list(month_area_dict.keys())\n",
    "y = list(month_area_dict.values())\n",
    "plt.xticks(x, [cal.month_abbr[i] for i in range(12)])\n",
    "plt.bar(x, y)\n",
    "plt.show()"
   ]
  },
  {
   "cell_type": "code",
   "execution_count": 181,
   "metadata": {},
   "outputs": [
    {
     "name": "stdout",
     "output_type": "stream",
     "text": [
      "14.3696875\n"
     ]
    }
   ],
   "source": [
    "grouped = df.groupby('month')\n",
    "print(np.mean(grouped.get_group('jul')['area']))"
   ]
  },
  {
   "cell_type": "code",
   "execution_count": null,
   "metadata": {},
   "outputs": [],
   "source": [
    ""
   ]
  }
 ],
 "metadata": {
  "kernelspec": {
   "display_name": "Python3(tensorflow)",
   "language": "python",
   "name": "python3"
  },
  "language_info": {
   "codemirror_mode": {
    "name": "ipython",
    "version": 3.0
   },
   "file_extension": ".py",
   "mimetype": "text/x-python",
   "name": "python",
   "nbconvert_exporter": "python",
   "pygments_lexer": "ipython3",
   "version": "3.5.1"
  }
 },
 "nbformat": 4,
 "nbformat_minor": 0
}