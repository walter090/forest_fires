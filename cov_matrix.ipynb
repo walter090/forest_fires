{
 "cells": [
  {
   "cell_type": "code",
   "execution_count": 1,
   "metadata": {
    "collapsed": true
   },
   "outputs": [],
   "source": [
    "import calendar as cal\n",
    "import numpy as np\n",
    "import pandas as pd"
   ]
  },
  {
   "cell_type": "code",
   "execution_count": 2,
   "metadata": {},
   "outputs": [
    {
     "name": "stdout",
     "output_type": "stream",
     "text": [
      "None\n"
     ]
    }
   ],
   "source": [
    "df = pd.read_csv('forest_fires.csv')\n",
    "# dictionary used to translate month names to integer, 1 for january\n",
    "month_to_num_dict = {key.lower(): value for value, key in enumerate(cal.month_abbr)}\n",
    "# dictionary used to translate day names to integer, 0 for monday\n",
    "day_to_num_dict = {key.lower(): value for value, key in enumerate(cal.day_abbr)}\n",
    "\n",
    "grouped = df.groupby('month')\n",
    "for group in grouped:\n",
    "    df.replace(group[0], month_to_num_dict[group[0]], inplace=True)\n",
    "\n",
    "grouped = df.groupby('day')\n",
    "for group in grouped:\n",
    "    df.replace(group[0], day_to_num_dict[group[0]], inplace=True)\n",
    "    \n",
    "df = df.corr()\n",
    "print(df.index.name)"
   ]
  },
  {
   "cell_type": "code",
   "execution_count": 3,
   "metadata": {},
   "outputs": [],
   "source": [
    "df.index.name = 'attr'"
   ]
  },
  {
   "cell_type": "code",
   "execution_count": 4,
   "metadata": {},
   "outputs": [],
   "source": [
    "# try:\n",
    "#     to_save = '~/Desktop/corr_matrix.csv'\n",
    "#     df.to_csv(to_save)\n",
    "# except Exception as err:\n",
    "#     print(format(err))"
   ]
  },
  {
   "cell_type": "code",
   "execution_count": 5,
   "metadata": {},
   "outputs": [],
   "source": [
    "# df['col'] = pd.Series(list(df), index=df.index)"
   ]
  },
  {
   "cell_type": "code",
   "execution_count": 6,
   "metadata": {},
   "outputs": [
    {
     "name": "stdout",
     "output_type": "stream",
     "text": [
      "attr          X         Y     month       day      FFMC       DMC        DC  \\\nattr                                                                          \nX      1.000000  0.539548 -0.065003 -0.024922 -0.021039 -0.048384 -0.085916   \nY      0.539548  1.000000 -0.066292 -0.005453 -0.046308  0.007782 -0.101178   \nmonth -0.065003 -0.066292  1.000000 -0.050837  0.291477  0.466645  0.868698   \nday   -0.024922 -0.005453 -0.050837  1.000000 -0.041068  0.062870  0.000105   \nFFMC  -0.021039 -0.046308  0.291477 -0.041068  1.000000  0.382619  0.330512   \nDMC   -0.048384  0.007782  0.466645  0.062870  0.382619  1.000000  0.682192   \nDC    -0.085916 -0.101178  0.868698  0.000105  0.330512  0.682192  1.000000   \nISI    0.006210 -0.024488  0.186597  0.032909  0.531805  0.305128  0.229154   \ntemp  -0.051258 -0.024103  0.368842  0.052190  0.431532  0.469594  0.496208   \nRH     0.085223  0.062221 -0.095280  0.092151 -0.300995  0.073795 -0.039192   \nwind   0.018798 -0.020341 -0.086368  0.032478 -0.028485 -0.105342 -0.203466   \nrain   0.065387  0.033234  0.013438 -0.048340  0.056702  0.074790  0.035861   \narea   0.063385  0.044873  0.056496  0.023226  0.040122  0.072994  0.049383   \n\nattr        ISI      temp        RH      wind      rain      area  \nattr                                                               \nX      0.006210 -0.051258  0.085223  0.018798  0.065387  0.063385  \nY     -0.024488 -0.024103  0.062221 -0.020341  0.033234  0.044873  \nmonth  0.186597  0.368842 -0.095280 -0.086368  0.013438  0.056496  \nday    0.032909  0.052190  0.092151  0.032478 -0.048340  0.023226  \nFFMC   0.531805  0.431532 -0.300995 -0.028485  0.056702  0.040122  \nDMC    0.305128  0.469594  0.073795 -0.105342  0.074790  0.072994  \nDC     0.229154  0.496208 -0.039192 -0.203466  0.035861  0.049383  \nISI    1.000000  0.394287 -0.132517  0.106826  0.067668  0.008258  \ntemp   0.394287  1.000000 -0.527390 -0.227116  0.069491  0.097844  \nRH    -0.132517 -0.527390  1.000000  0.069410  0.099751 -0.075519  \nwind   0.106826 -0.227116  0.069410  1.000000  0.061119  0.012317  \nrain   0.067668  0.069491  0.099751  0.061119  1.000000 -0.007366  \narea   0.008258  0.097844 -0.075519  0.012317 -0.007366  1.000000  \n"
     ]
    }
   ],
   "source": [
    "print(df)"
   ]
  },
  {
   "cell_type": "code",
   "execution_count": 7,
   "metadata": {},
   "outputs": [],
   "source": [
    "try:\n",
    "    to_save = '~/Desktop/corr_matrix.csv'\n",
    "    df.to_csv(to_save)\n",
    "except Exception as err:\n",
    "    print(format(err))"
   ]
  },
  {
   "cell_type": "code",
   "execution_count": 11,
   "metadata": {},
   "outputs": [
    {
     "name": "stdout",
     "output_type": "stream",
     "text": [
      "        value    col    row\n0    1.000000      X      X\n1    0.539548      Y      X\n2   -0.065003  month      X\n3   -0.024922    day      X\n4   -0.021039   FFMC      X\n5   -0.048384    DMC      X\n6   -0.085916     DC      X\n7    0.006210    ISI      X\n8   -0.051258   temp      X\n9    0.085223     RH      X\n10   0.018798   wind      X\n11   0.065387   rain      X\n12   0.063385   area      X\n13   0.539548      X      Y\n14   1.000000      Y      Y\n15  -0.066292  month      Y\n16  -0.005453    day      Y\n17  -0.046308   FFMC      Y\n18   0.007782    DMC      Y\n19  -0.101178     DC      Y\n20  -0.024488    ISI      Y\n21  -0.024103   temp      Y\n22   0.062221     RH      Y\n23  -0.020341   wind      Y\n24   0.033234   rain      Y\n25   0.044873   area      Y\n26  -0.065003      X  month\n27  -0.066292      Y  month\n28   1.000000  month  month\n29  -0.050837    day  month\n..        ...    ...    ...\n139  0.069410     RH   wind\n140  1.000000   wind   wind\n141  0.061119   rain   wind\n142  0.012317   area   wind\n143  0.065387      X   rain\n144  0.033234      Y   rain\n145  0.013438  month   rain\n146 -0.048340    day   rain\n147  0.056702   FFMC   rain\n148  0.074790    DMC   rain\n149  0.035861     DC   rain\n150  0.067668    ISI   rain\n151  0.069491   temp   rain\n152  0.099751     RH   rain\n153  0.061119   wind   rain\n154  1.000000   rain   rain\n155 -0.007366   area   rain\n156  0.063385      X   area\n157  0.044873      Y   area\n158  0.056496  month   area\n159  0.023226    day   area\n160  0.040122   FFMC   area\n161  0.072994    DMC   area\n162  0.049383     DC   area\n163  0.008258    ISI   area\n164  0.097844   temp   area\n165 -0.075519     RH   area\n166  0.012317   wind   area\n167 -0.007366   rain   area\n168  1.000000   area   area\n\n[169 rows x 3 columns]\n"
     ]
    }
   ],
   "source": [
    "new_df = pd.DataFrame()\n",
    "indices = df.index.values\n",
    "columns = list(df)\n",
    "values = []\n",
    "cols = []\n",
    "rows = []\n",
    "\n",
    "for index in indices:\n",
    "    for column in columns:\n",
    "        cols.append(column)\n",
    "        rows.append(index)\n",
    "        values.append(df.get_value(index=index,col=column))\n",
    "        \n",
    "new_df['value'] = pd.Series(values)\n",
    "new_df['col'] = pd.Series(cols)\n",
    "new_df['row'] = pd.Series(rows)\n",
    "\n",
    "print(new_df)"
   ]
  },
  {
   "cell_type": "code",
   "execution_count": 14,
   "metadata": {},
   "outputs": [],
   "source": [
    "try:\n",
    "    to_save = '~/Desktop/corr_matrix_list.csv'\n",
    "    new_df.to_csv(to_save)\n",
    "except Exception as err:\n",
    "    print(format(err))"
   ]
  },
  {
   "cell_type": "code",
   "execution_count": null,
   "metadata": {},
   "outputs": [],
   "source": [
    ""
   ]
  }
 ],
 "metadata": {
  "kernelspec": {
   "display_name": "Python 2",
   "language": "python",
   "name": "python2"
  },
  "language_info": {
   "codemirror_mode": {
    "name": "ipython",
    "version": 2.0
   },
   "file_extension": ".py",
   "mimetype": "text/x-python",
   "name": "python",
   "nbconvert_exporter": "python",
   "pygments_lexer": "ipython2",
   "version": "2.7.6"
  }
 },
 "nbformat": 4,
 "nbformat_minor": 0
}