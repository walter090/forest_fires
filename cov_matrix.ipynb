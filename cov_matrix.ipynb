{
 "cells": [
  {
   "cell_type": "code",
   "execution_count": 1,
   "metadata": {
    "collapsed": true
   },
   "outputs": [],
   "source": [
    "import calendar as cal\n",
    "import numpy as np\n",
    "import pandas as pd"
   ]
  },
  {
   "cell_type": "code",
   "execution_count": 2,
   "metadata": {
    "collapsed": false,
    "scrolled": true
   },
   "outputs": [],
   "source": [
    "df = pd.read_csv('forest_fires.csv')\n",
    "# dictionary used to translate month names to integer, 1 for january\n",
    "month_to_num_dict = {key.lower(): value for value, key in enumerate(cal.month_abbr)}\n",
    "# dictionary used to translate day names to integer, 0 for monday\n",
    "day_to_num_dict = {key.lower(): value for value, key in enumerate(cal.day_abbr)}\n",
    "\n",
    "grouped = df.groupby('month')\n",
    "for group in grouped:\n",
    "    df.replace(group[0], month_to_num_dict[group[0]], inplace=True)\n",
    "\n",
    "grouped = df.groupby('day')\n",
    "for group in grouped:\n",
    "    df.replace(group[0], day_to_num_dict[group[0]], inplace=True)\n",
    "    \n",
    "df.drop(['area', 'Y', 'day'], 1, inplace=True)\n",
    "cols = df.columns.tolist()\n",
    "cols = ['DC', 'month', 'DMC', 'temp', 'RH', 'FFMC', 'ISI', 'wind', 'rain', 'X']\n",
    "df = df[cols]"
   ]
  },
  {
   "cell_type": "code",
   "execution_count": null,
   "metadata": {
    "collapsed": true
   },
   "outputs": [],
   "source": [
    ""
   ]
  },
  {
   "cell_type": "code",
   "execution_count": 3,
   "metadata": {
    "collapsed": false
   },
   "outputs": [],
   "source": [
    "df = df.corr()\n",
    "\n",
    "df = df.reset_index()\n",
    "df.drop(['index'], 1, inplace=True)\n",
    "try:\n",
    "    to_save = 'corr_matrix.csv'\n",
    "    df.to_csv(to_save)\n",
    "except Exception as err:\n",
    "    print(format(err))"
   ]
  },
  {
   "cell_type": "code",
   "execution_count": 4,
   "metadata": {
    "collapsed": false
   },
   "outputs": [
    {
     "name": "stdout",
     "output_type": "stream",
     "text": [
      "         DC     month       DMC      temp        RH      FFMC       ISI  \\\n",
      "0  1.000000  0.868698  0.682192  0.496208 -0.039192  0.330512  0.229154   \n",
      "1  0.868698  1.000000  0.466645  0.368842 -0.095280  0.291477  0.186597   \n",
      "2  0.682192  0.466645  1.000000  0.469594  0.073795  0.382619  0.305128   \n",
      "3  0.496208  0.368842  0.469594  1.000000 -0.527390  0.431532  0.394287   \n",
      "4 -0.039192 -0.095280  0.073795 -0.527390  1.000000 -0.300995 -0.132517   \n",
      "5  0.330512  0.291477  0.382619  0.431532 -0.300995  1.000000  0.531805   \n",
      "6  0.229154  0.186597  0.305128  0.394287 -0.132517  0.531805  1.000000   \n",
      "7 -0.203466 -0.086368 -0.105342 -0.227116  0.069410 -0.028485  0.106826   \n",
      "8  0.035861  0.013438  0.074790  0.069491  0.099751  0.056702  0.067668   \n",
      "9 -0.085916 -0.065003 -0.048384 -0.051258  0.085223 -0.021039  0.006210   \n",
      "\n",
      "       wind      rain         X  \n",
      "0 -0.203466  0.035861 -0.085916  \n",
      "1 -0.086368  0.013438 -0.065003  \n",
      "2 -0.105342  0.074790 -0.048384  \n",
      "3 -0.227116  0.069491 -0.051258  \n",
      "4  0.069410  0.099751  0.085223  \n",
      "5 -0.028485  0.056702 -0.021039  \n",
      "6  0.106826  0.067668  0.006210  \n",
      "7  1.000000  0.061119  0.018798  \n",
      "8  0.061119  1.000000  0.065387  \n",
      "9  0.018798  0.065387  1.000000  \n"
     ]
    }
   ],
   "source": [
    "print(df)"
   ]
  },
  {
   "cell_type": "code",
   "execution_count": 5,
   "metadata": {
    "collapsed": true
   },
   "outputs": [],
   "source": [
    "try:\n",
    "    to_save = '~/Desktop/corr_matrix.csv'\n",
    "    df.to_csv(to_save)\n",
    "except Exception as err:\n",
    "    print(format(err))"
   ]
  },
  {
   "cell_type": "code",
   "execution_count": 8,
   "metadata": {
    "collapsed": false
   },
   "outputs": [
    {
     "name": "stdout",
     "output_type": "stream",
     "text": [
      "       value    col    row\n",
      "0   1.000000     DC     DC\n",
      "1   0.868698  month     DC\n",
      "2   0.682192    DMC     DC\n",
      "3   0.496208   temp     DC\n",
      "4  -0.039192     RH     DC\n",
      "5   0.330512   FFMC     DC\n",
      "6   0.229154    ISI     DC\n",
      "7  -0.203466   wind     DC\n",
      "8   0.035861   rain     DC\n",
      "9  -0.085916      X     DC\n",
      "10  0.868698     DC  month\n",
      "11  1.000000  month  month\n",
      "12  0.466645    DMC  month\n",
      "13  0.368842   temp  month\n",
      "14 -0.095280     RH  month\n",
      "15  0.291477   FFMC  month\n",
      "16  0.186597    ISI  month\n",
      "17 -0.086368   wind  month\n",
      "18  0.013438   rain  month\n",
      "19 -0.065003      X  month\n",
      "20  0.682192     DC    DMC\n",
      "21  0.466645  month    DMC\n",
      "22  1.000000    DMC    DMC\n",
      "23  0.469594   temp    DMC\n",
      "24  0.073795     RH    DMC\n",
      "25  0.382619   FFMC    DMC\n",
      "26  0.305128    ISI    DMC\n",
      "27 -0.105342   wind    DMC\n",
      "28  0.074790   rain    DMC\n",
      "29 -0.048384      X    DMC\n",
      "..       ...    ...    ...\n",
      "70 -0.203466     DC   wind\n",
      "71 -0.086368  month   wind\n",
      "72 -0.105342    DMC   wind\n",
      "73 -0.227116   temp   wind\n",
      "74  0.069410     RH   wind\n",
      "75 -0.028485   FFMC   wind\n",
      "76  0.106826    ISI   wind\n",
      "77  1.000000   wind   wind\n",
      "78  0.061119   rain   wind\n",
      "79  0.018798      X   wind\n",
      "80  0.035861     DC   rain\n",
      "81  0.013438  month   rain\n",
      "82  0.074790    DMC   rain\n",
      "83  0.069491   temp   rain\n",
      "84  0.099751     RH   rain\n",
      "85  0.056702   FFMC   rain\n",
      "86  0.067668    ISI   rain\n",
      "87  0.061119   wind   rain\n",
      "88  1.000000   rain   rain\n",
      "89  0.065387      X   rain\n",
      "90 -0.085916     DC      X\n",
      "91 -0.065003  month      X\n",
      "92 -0.048384    DMC      X\n",
      "93 -0.051258   temp      X\n",
      "94  0.085223     RH      X\n",
      "95 -0.021039   FFMC      X\n",
      "96  0.006210    ISI      X\n",
      "97  0.018798   wind      X\n",
      "98  0.065387   rain      X\n",
      "99  1.000000      X      X\n",
      "\n",
      "[100 rows x 3 columns]\n"
     ]
    }
   ],
   "source": [
    "new_df = pd.DataFrame()\n",
    "indices = df.index.values\n",
    "columns = list(df)\n",
    "values = []\n",
    "cols = []\n",
    "rows = []\n",
    "\n",
    "for index in indices:\n",
    "    for column in columns:\n",
    "        cols.append(column)\n",
    "        rows.append(columns[index])\n",
    "        values.append(df.get_value(index=index,col=column))\n",
    "        \n",
    "new_df['value'] = pd.Series(values)\n",
    "new_df['col'] = pd.Series(cols)\n",
    "new_df['row'] = pd.Series(rows)\n",
    "\n",
    "print(new_df)"
   ]
  },
  {
   "cell_type": "code",
   "execution_count": 9,
   "metadata": {
    "collapsed": true
   },
   "outputs": [],
   "source": [
    "try:\n",
    "    to_save = '~/Desktop/corr_matrix_list.csv'\n",
    "    new_df.to_csv(to_save)\n",
    "except Exception as err:\n",
    "    print(format(err))"
   ]
  },
  {
   "cell_type": "code",
   "execution_count": null,
   "metadata": {
    "collapsed": true
   },
   "outputs": [],
   "source": [
    ""
   ]
  }
 ],
 "metadata": {
  "kernelspec": {
   "display_name": "Python3(tensorflow)",
   "language": "python",
   "name": "python3"
  },
  "language_info": {
   "codemirror_mode": {
    "name": "ipython",
    "version": 3.0
   },
   "file_extension": ".py",
   "mimetype": "text/x-python",
   "name": "python",
   "nbconvert_exporter": "python",
   "pygments_lexer": "ipython3",
   "version": "3.5.1"
  }
 },
 "nbformat": 4,
 "nbformat_minor": 0
}